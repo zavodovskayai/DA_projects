{
 "cells": [
  {
   "cell_type": "markdown",
   "id": "99b340e4",
   "metadata": {},
   "source": [
    "# Анализ БД крупного сервиса для чтения книг по подписке\n",
    "\n",
    "**Цель:** проанализировать базу данных, которая помогут сформулировать ценностное предложение для нового продукта.\n",
    "\n",
    "**Задания:**\n",
    "\n",
    "- Посчитайте, сколько книг вышло после 1 января 2000 года;\n",
    "- Для каждой книги посчитайте количество обзоров и среднюю оценку;\n",
    "- Определите издательство, которое выпустило наибольшее число книг толще 50 страниц — так вы исключите из анализа брошюры;\n",
    "- Определите автора с самой высокой средней оценкой книг — учитывайте только книги с 50 и более оценками;\n",
    "- Посчитайте среднее количество обзоров от пользователей, которые поставили больше 50 оценок.\n",
    "\n",
    "**Описание данных:**\n",
    "\n",
    "**Таблица `books`**\n",
    "\n",
    "Содержит данные о книгах:\n",
    "\n",
    "- `book_id` — идентификатор книги;\n",
    "- `author_id` — идентификатор автора;\n",
    "- `title` — название книги;\n",
    "- `num_pages` — количество страниц;\n",
    "- `publication_date` — дата публикации книги;\n",
    "- `publisher_id` — идентификатор издателя.\n",
    "\n",
    "**Таблица `authors`**\n",
    "\n",
    "Содержит данные об авторах:\n",
    "\n",
    "- `author_id` — идентификатор автора;\n",
    "- `author` — имя автора.\n",
    "\n",
    "**Таблица `publishers`**\n",
    "\n",
    "Содержит данные об издательствах:\n",
    "\n",
    "- `publisher_id` — идентификатор издательства;\n",
    "- `publisher` — название издательства;\n",
    "\n",
    "**Таблица `ratings`**\n",
    "\n",
    "Содержит данные о пользовательских оценках книг:\n",
    "\n",
    "- `rating_id` — идентификатор оценки;\n",
    "- `book_id` — идентификатор книги;\n",
    "- `username` — имя пользователя, оставившего оценку;\n",
    "- `rating` — оценка книги.\n",
    "\n",
    "**Таблица `reviews`**\n",
    "\n",
    "Содержит данные о пользовательских обзорах на книги:\n",
    "\n",
    "- `review_id` — идентификатор обзора;\n",
    "- `book_id` — идентификатор книги;\n",
    "- `username` — имя пользователя, написавшего обзор;\n",
    "- `text` — текст обзора.\n"
   ]
  },
  {
   "cell_type": "markdown",
   "id": "0f794ce6",
   "metadata": {},
   "source": [
    "___\n",
    "## Чтение файлов и предобработка данных\n",
    "На данном этапе будут выгружены файлы, проведён первичный анализ и сделана предобработка данных."
   ]
  },
  {
   "cell_type": "code",
   "execution_count": 1,
   "id": "759b63aa",
   "metadata": {},
   "outputs": [],
   "source": [
    "# импортируем библиотеки\n",
    "import pandas as pd\n",
    "from sqlalchemy import create_engine\n",
    "import pandas as pd\n",
    "import warnings\n",
    "\n",
    "# избавимся от вывода ошибок, так код будет выглядеть красивее\n",
    "warnings.simplefilter(\"ignore\")"
   ]
  },
  {
   "cell_type": "code",
   "execution_count": 2,
   "id": "a2d28bfd",
   "metadata": {},
   "outputs": [],
   "source": [
    "# устанавливаем параметры\n",
    "db_config = {'user': 'praktikum_student', # имя пользователя\n",
    "'pwd': 'Sdf4$2;d-d30pp', # пароль\n",
    "'host': 'rc1b-wcoijxj3yxfsf3fs.mdb.yandexcloud.net',\n",
    "'port': 6432, # порт подключения\n",
    "'db': 'data-analyst-final-project-db'} # название базы данных\n",
    "connection_string = 'postgresql://{}:{}@{}:{}/{}'.format(db_config['user'],\n",
    " db_config['pwd'],\n",
    " db_config['host'],\n",
    " db_config['port'],\n",
    " db_config['db'])\n",
    "# сохраняем коннектор\n",
    "engine = create_engine(connection_string, connect_args={'sslmode':'require'}) "
   ]
  },
  {
   "cell_type": "code",
   "execution_count": 3,
   "id": "d8ed9548",
   "metadata": {},
   "outputs": [],
   "source": [
    "# создадим функцию для чтения файлов\n",
    "def reader(data):\n",
    "    query = '''SELECT * FROM {}'''.format(data)\n",
    "    return pd.io.sql.read_sql(query, con = engine)"
   ]
  },
  {
   "cell_type": "code",
   "execution_count": 4,
   "id": "8bb0ab5d",
   "metadata": {},
   "outputs": [],
   "source": [
    "# запишем данные с переменные\n",
    "books = reader('books')\n",
    "authors = reader('authors')\n",
    "ratings = reader('ratings')\n",
    "reviews = reader('reviews')\n",
    "publishers = reader('publishers')"
   ]
  },
  {
   "cell_type": "code",
   "execution_count": 5,
   "id": "6c5abc6a",
   "metadata": {},
   "outputs": [],
   "source": [
    "# создадим функцию для применения query\n",
    "def query(func):\n",
    "    return pd.io.sql.read_sql(func, con = engine)"
   ]
  },
  {
   "cell_type": "code",
   "execution_count": 6,
   "id": "703da6af",
   "metadata": {},
   "outputs": [],
   "source": [
    "#функция для предобработки данных\n",
    "\n",
    "def preprocessing(file, file_name):\n",
    "    print('Посмотрим первые строки датафрейма', file_name)\n",
    "    display(file.head())\n",
    "    print('___________________________')\n",
    "    print('')\n",
    "    \n",
    "    print('Информация о таблице', file_name)\n",
    "    print(file.info())\n",
    "    print('___________________________')\n",
    "    print('')\n",
    "    \n",
    "    print('Распределение данных в таблице', file_name)\n",
    "    print(file.describe())\n",
    "    print('___________________________')\n",
    "    print('')  \n",
    "    \n",
    "    print('Наличие явных дубликатов в', file_name)\n",
    "    print(file.duplicated().sum())\n",
    "    print('___________________________')\n",
    "    print('')\n",
    "    \n",
    "    print('Наличие пропусков в таблице', file_name)\n",
    "    print(file.isna().sum())"
   ]
  },
  {
   "cell_type": "code",
   "execution_count": 7,
   "id": "5e95c2c7",
   "metadata": {
    "scrolled": false
   },
   "outputs": [
    {
     "name": "stdout",
     "output_type": "stream",
     "text": [
      "Посмотрим первые строки датафрейма books\n"
     ]
    },
    {
     "data": {
      "text/html": [
       "<div>\n",
       "<style scoped>\n",
       "    .dataframe tbody tr th:only-of-type {\n",
       "        vertical-align: middle;\n",
       "    }\n",
       "\n",
       "    .dataframe tbody tr th {\n",
       "        vertical-align: top;\n",
       "    }\n",
       "\n",
       "    .dataframe thead th {\n",
       "        text-align: right;\n",
       "    }\n",
       "</style>\n",
       "<table border=\"1\" class=\"dataframe\">\n",
       "  <thead>\n",
       "    <tr style=\"text-align: right;\">\n",
       "      <th></th>\n",
       "      <th>book_id</th>\n",
       "      <th>author_id</th>\n",
       "      <th>title</th>\n",
       "      <th>num_pages</th>\n",
       "      <th>publication_date</th>\n",
       "      <th>publisher_id</th>\n",
       "    </tr>\n",
       "  </thead>\n",
       "  <tbody>\n",
       "    <tr>\n",
       "      <th>0</th>\n",
       "      <td>1</td>\n",
       "      <td>546</td>\n",
       "      <td>'Salem's Lot</td>\n",
       "      <td>594</td>\n",
       "      <td>2005-11-01</td>\n",
       "      <td>93</td>\n",
       "    </tr>\n",
       "    <tr>\n",
       "      <th>1</th>\n",
       "      <td>2</td>\n",
       "      <td>465</td>\n",
       "      <td>1 000 Places to See Before You Die</td>\n",
       "      <td>992</td>\n",
       "      <td>2003-05-22</td>\n",
       "      <td>336</td>\n",
       "    </tr>\n",
       "    <tr>\n",
       "      <th>2</th>\n",
       "      <td>3</td>\n",
       "      <td>407</td>\n",
       "      <td>13 Little Blue Envelopes (Little Blue Envelope...</td>\n",
       "      <td>322</td>\n",
       "      <td>2010-12-21</td>\n",
       "      <td>135</td>\n",
       "    </tr>\n",
       "    <tr>\n",
       "      <th>3</th>\n",
       "      <td>4</td>\n",
       "      <td>82</td>\n",
       "      <td>1491: New Revelations of the Americas Before C...</td>\n",
       "      <td>541</td>\n",
       "      <td>2006-10-10</td>\n",
       "      <td>309</td>\n",
       "    </tr>\n",
       "    <tr>\n",
       "      <th>4</th>\n",
       "      <td>5</td>\n",
       "      <td>125</td>\n",
       "      <td>1776</td>\n",
       "      <td>386</td>\n",
       "      <td>2006-07-04</td>\n",
       "      <td>268</td>\n",
       "    </tr>\n",
       "  </tbody>\n",
       "</table>\n",
       "</div>"
      ],
      "text/plain": [
       "   book_id  author_id                                              title  \\\n",
       "0        1        546                                       'Salem's Lot   \n",
       "1        2        465                 1 000 Places to See Before You Die   \n",
       "2        3        407  13 Little Blue Envelopes (Little Blue Envelope...   \n",
       "3        4         82  1491: New Revelations of the Americas Before C...   \n",
       "4        5        125                                               1776   \n",
       "\n",
       "   num_pages publication_date  publisher_id  \n",
       "0        594       2005-11-01            93  \n",
       "1        992       2003-05-22           336  \n",
       "2        322       2010-12-21           135  \n",
       "3        541       2006-10-10           309  \n",
       "4        386       2006-07-04           268  "
      ]
     },
     "metadata": {},
     "output_type": "display_data"
    },
    {
     "name": "stdout",
     "output_type": "stream",
     "text": [
      "___________________________\n",
      "\n",
      "Информация о таблице books\n",
      "<class 'pandas.core.frame.DataFrame'>\n",
      "RangeIndex: 1000 entries, 0 to 999\n",
      "Data columns (total 6 columns):\n",
      " #   Column            Non-Null Count  Dtype \n",
      "---  ------            --------------  ----- \n",
      " 0   book_id           1000 non-null   int64 \n",
      " 1   author_id         1000 non-null   int64 \n",
      " 2   title             1000 non-null   object\n",
      " 3   num_pages         1000 non-null   int64 \n",
      " 4   publication_date  1000 non-null   object\n",
      " 5   publisher_id      1000 non-null   int64 \n",
      "dtypes: int64(4), object(2)\n",
      "memory usage: 47.0+ KB\n",
      "None\n",
      "___________________________\n",
      "\n",
      "Распределение данных в таблице books\n",
      "           book_id    author_id   num_pages  publisher_id\n",
      "count  1000.000000  1000.000000  1000.00000   1000.000000\n",
      "mean    500.500000   320.417000   389.11100    171.270000\n",
      "std     288.819436   181.620172   229.39014     99.082685\n",
      "min       1.000000     1.000000    14.00000      1.000000\n",
      "25%     250.750000   162.750000   249.00000     83.000000\n",
      "50%     500.500000   316.500000   352.00000    177.500000\n",
      "75%     750.250000   481.000000   453.00000    258.000000\n",
      "max    1000.000000   636.000000  2690.00000    340.000000\n",
      "___________________________\n",
      "\n",
      "Наличие явных дубликатов в books\n",
      "0\n",
      "___________________________\n",
      "\n",
      "Наличие пропусков в таблице books\n",
      "book_id             0\n",
      "author_id           0\n",
      "title               0\n",
      "num_pages           0\n",
      "publication_date    0\n",
      "publisher_id        0\n",
      "dtype: int64\n"
     ]
    }
   ],
   "source": [
    "preprocessing(books, 'books')"
   ]
  },
  {
   "cell_type": "markdown",
   "id": "ce702f9f",
   "metadata": {},
   "source": [
    "**Данные выгружены корретно, пропусков и дубликатов нет, однако тип данных не совсем соответствует. Приведём дату к нужному формату.**"
   ]
  },
  {
   "cell_type": "code",
   "execution_count": 8,
   "id": "80744552",
   "metadata": {},
   "outputs": [],
   "source": [
    "books['publication_date'] = pd.to_datetime(books['publication_date'])"
   ]
  },
  {
   "cell_type": "code",
   "execution_count": 9,
   "id": "be2f4760",
   "metadata": {
    "scrolled": true
   },
   "outputs": [
    {
     "name": "stdout",
     "output_type": "stream",
     "text": [
      "Посмотрим первые строки датафрейма authors\n"
     ]
    },
    {
     "data": {
      "text/html": [
       "<div>\n",
       "<style scoped>\n",
       "    .dataframe tbody tr th:only-of-type {\n",
       "        vertical-align: middle;\n",
       "    }\n",
       "\n",
       "    .dataframe tbody tr th {\n",
       "        vertical-align: top;\n",
       "    }\n",
       "\n",
       "    .dataframe thead th {\n",
       "        text-align: right;\n",
       "    }\n",
       "</style>\n",
       "<table border=\"1\" class=\"dataframe\">\n",
       "  <thead>\n",
       "    <tr style=\"text-align: right;\">\n",
       "      <th></th>\n",
       "      <th>author_id</th>\n",
       "      <th>author</th>\n",
       "    </tr>\n",
       "  </thead>\n",
       "  <tbody>\n",
       "    <tr>\n",
       "      <th>0</th>\n",
       "      <td>1</td>\n",
       "      <td>A.S. Byatt</td>\n",
       "    </tr>\n",
       "    <tr>\n",
       "      <th>1</th>\n",
       "      <td>2</td>\n",
       "      <td>Aesop/Laura Harris/Laura Gibbs</td>\n",
       "    </tr>\n",
       "    <tr>\n",
       "      <th>2</th>\n",
       "      <td>3</td>\n",
       "      <td>Agatha Christie</td>\n",
       "    </tr>\n",
       "    <tr>\n",
       "      <th>3</th>\n",
       "      <td>4</td>\n",
       "      <td>Alan Brennert</td>\n",
       "    </tr>\n",
       "    <tr>\n",
       "      <th>4</th>\n",
       "      <td>5</td>\n",
       "      <td>Alan Moore/David   Lloyd</td>\n",
       "    </tr>\n",
       "  </tbody>\n",
       "</table>\n",
       "</div>"
      ],
      "text/plain": [
       "   author_id                          author\n",
       "0          1                      A.S. Byatt\n",
       "1          2  Aesop/Laura Harris/Laura Gibbs\n",
       "2          3                 Agatha Christie\n",
       "3          4                   Alan Brennert\n",
       "4          5        Alan Moore/David   Lloyd"
      ]
     },
     "metadata": {},
     "output_type": "display_data"
    },
    {
     "name": "stdout",
     "output_type": "stream",
     "text": [
      "___________________________\n",
      "\n",
      "Информация о таблице authors\n",
      "<class 'pandas.core.frame.DataFrame'>\n",
      "RangeIndex: 636 entries, 0 to 635\n",
      "Data columns (total 2 columns):\n",
      " #   Column     Non-Null Count  Dtype \n",
      "---  ------     --------------  ----- \n",
      " 0   author_id  636 non-null    int64 \n",
      " 1   author     636 non-null    object\n",
      "dtypes: int64(1), object(1)\n",
      "memory usage: 10.1+ KB\n",
      "None\n",
      "___________________________\n",
      "\n",
      "Распределение данных в таблице authors\n",
      "        author_id\n",
      "count  636.000000\n",
      "mean   318.500000\n",
      "std    183.741666\n",
      "min      1.000000\n",
      "25%    159.750000\n",
      "50%    318.500000\n",
      "75%    477.250000\n",
      "max    636.000000\n",
      "___________________________\n",
      "\n",
      "Наличие явных дубликатов в authors\n",
      "0\n",
      "___________________________\n",
      "\n",
      "Наличие пропусков в таблице authors\n",
      "author_id    0\n",
      "author       0\n",
      "dtype: int64\n"
     ]
    }
   ],
   "source": [
    "preprocessing(authors, 'authors')"
   ]
  },
  {
   "cell_type": "code",
   "execution_count": 10,
   "id": "4c285f18",
   "metadata": {
    "scrolled": true
   },
   "outputs": [
    {
     "name": "stdout",
     "output_type": "stream",
     "text": [
      "Посмотрим первые строки датафрейма ratings\n"
     ]
    },
    {
     "data": {
      "text/html": [
       "<div>\n",
       "<style scoped>\n",
       "    .dataframe tbody tr th:only-of-type {\n",
       "        vertical-align: middle;\n",
       "    }\n",
       "\n",
       "    .dataframe tbody tr th {\n",
       "        vertical-align: top;\n",
       "    }\n",
       "\n",
       "    .dataframe thead th {\n",
       "        text-align: right;\n",
       "    }\n",
       "</style>\n",
       "<table border=\"1\" class=\"dataframe\">\n",
       "  <thead>\n",
       "    <tr style=\"text-align: right;\">\n",
       "      <th></th>\n",
       "      <th>rating_id</th>\n",
       "      <th>book_id</th>\n",
       "      <th>username</th>\n",
       "      <th>rating</th>\n",
       "    </tr>\n",
       "  </thead>\n",
       "  <tbody>\n",
       "    <tr>\n",
       "      <th>0</th>\n",
       "      <td>1</td>\n",
       "      <td>1</td>\n",
       "      <td>ryanfranco</td>\n",
       "      <td>4</td>\n",
       "    </tr>\n",
       "    <tr>\n",
       "      <th>1</th>\n",
       "      <td>2</td>\n",
       "      <td>1</td>\n",
       "      <td>grantpatricia</td>\n",
       "      <td>2</td>\n",
       "    </tr>\n",
       "    <tr>\n",
       "      <th>2</th>\n",
       "      <td>3</td>\n",
       "      <td>1</td>\n",
       "      <td>brandtandrea</td>\n",
       "      <td>5</td>\n",
       "    </tr>\n",
       "    <tr>\n",
       "      <th>3</th>\n",
       "      <td>4</td>\n",
       "      <td>2</td>\n",
       "      <td>lorichen</td>\n",
       "      <td>3</td>\n",
       "    </tr>\n",
       "    <tr>\n",
       "      <th>4</th>\n",
       "      <td>5</td>\n",
       "      <td>2</td>\n",
       "      <td>mariokeller</td>\n",
       "      <td>2</td>\n",
       "    </tr>\n",
       "  </tbody>\n",
       "</table>\n",
       "</div>"
      ],
      "text/plain": [
       "   rating_id  book_id       username  rating\n",
       "0          1        1     ryanfranco       4\n",
       "1          2        1  grantpatricia       2\n",
       "2          3        1   brandtandrea       5\n",
       "3          4        2       lorichen       3\n",
       "4          5        2    mariokeller       2"
      ]
     },
     "metadata": {},
     "output_type": "display_data"
    },
    {
     "name": "stdout",
     "output_type": "stream",
     "text": [
      "___________________________\n",
      "\n",
      "Информация о таблице ratings\n",
      "<class 'pandas.core.frame.DataFrame'>\n",
      "RangeIndex: 6456 entries, 0 to 6455\n",
      "Data columns (total 4 columns):\n",
      " #   Column     Non-Null Count  Dtype \n",
      "---  ------     --------------  ----- \n",
      " 0   rating_id  6456 non-null   int64 \n",
      " 1   book_id    6456 non-null   int64 \n",
      " 2   username   6456 non-null   object\n",
      " 3   rating     6456 non-null   int64 \n",
      "dtypes: int64(3), object(1)\n",
      "memory usage: 201.9+ KB\n",
      "None\n",
      "___________________________\n",
      "\n",
      "Распределение данных в таблице ratings\n",
      "         rating_id      book_id       rating\n",
      "count  6456.000000  6456.000000  6456.000000\n",
      "mean   3228.500000   510.574195     3.928284\n",
      "std    1863.831001   284.141636     0.943303\n",
      "min       1.000000     1.000000     1.000000\n",
      "25%    1614.750000   291.000000     3.000000\n",
      "50%    3228.500000   506.000000     4.000000\n",
      "75%    4842.250000   750.000000     5.000000\n",
      "max    6456.000000  1000.000000     5.000000\n",
      "___________________________\n",
      "\n",
      "Наличие явных дубликатов в ratings\n",
      "0\n",
      "___________________________\n",
      "\n",
      "Наличие пропусков в таблице ratings\n",
      "rating_id    0\n",
      "book_id      0\n",
      "username     0\n",
      "rating       0\n",
      "dtype: int64\n"
     ]
    }
   ],
   "source": [
    "preprocessing(ratings, 'ratings')"
   ]
  },
  {
   "cell_type": "code",
   "execution_count": 11,
   "id": "0fc1cb90",
   "metadata": {
    "scrolled": true
   },
   "outputs": [
    {
     "name": "stdout",
     "output_type": "stream",
     "text": [
      "Посмотрим первые строки датафрейма reviews\n"
     ]
    },
    {
     "data": {
      "text/html": [
       "<div>\n",
       "<style scoped>\n",
       "    .dataframe tbody tr th:only-of-type {\n",
       "        vertical-align: middle;\n",
       "    }\n",
       "\n",
       "    .dataframe tbody tr th {\n",
       "        vertical-align: top;\n",
       "    }\n",
       "\n",
       "    .dataframe thead th {\n",
       "        text-align: right;\n",
       "    }\n",
       "</style>\n",
       "<table border=\"1\" class=\"dataframe\">\n",
       "  <thead>\n",
       "    <tr style=\"text-align: right;\">\n",
       "      <th></th>\n",
       "      <th>review_id</th>\n",
       "      <th>book_id</th>\n",
       "      <th>username</th>\n",
       "      <th>text</th>\n",
       "    </tr>\n",
       "  </thead>\n",
       "  <tbody>\n",
       "    <tr>\n",
       "      <th>0</th>\n",
       "      <td>1</td>\n",
       "      <td>1</td>\n",
       "      <td>brandtandrea</td>\n",
       "      <td>Mention society tell send professor analysis. ...</td>\n",
       "    </tr>\n",
       "    <tr>\n",
       "      <th>1</th>\n",
       "      <td>2</td>\n",
       "      <td>1</td>\n",
       "      <td>ryanfranco</td>\n",
       "      <td>Foot glass pretty audience hit themselves. Amo...</td>\n",
       "    </tr>\n",
       "    <tr>\n",
       "      <th>2</th>\n",
       "      <td>3</td>\n",
       "      <td>2</td>\n",
       "      <td>lorichen</td>\n",
       "      <td>Listen treat keep worry. Miss husband tax but ...</td>\n",
       "    </tr>\n",
       "    <tr>\n",
       "      <th>3</th>\n",
       "      <td>4</td>\n",
       "      <td>3</td>\n",
       "      <td>johnsonamanda</td>\n",
       "      <td>Finally month interesting blue could nature cu...</td>\n",
       "    </tr>\n",
       "    <tr>\n",
       "      <th>4</th>\n",
       "      <td>5</td>\n",
       "      <td>3</td>\n",
       "      <td>scotttamara</td>\n",
       "      <td>Nation purpose heavy give wait song will. List...</td>\n",
       "    </tr>\n",
       "  </tbody>\n",
       "</table>\n",
       "</div>"
      ],
      "text/plain": [
       "   review_id  book_id       username  \\\n",
       "0          1        1   brandtandrea   \n",
       "1          2        1     ryanfranco   \n",
       "2          3        2       lorichen   \n",
       "3          4        3  johnsonamanda   \n",
       "4          5        3    scotttamara   \n",
       "\n",
       "                                                text  \n",
       "0  Mention society tell send professor analysis. ...  \n",
       "1  Foot glass pretty audience hit themselves. Amo...  \n",
       "2  Listen treat keep worry. Miss husband tax but ...  \n",
       "3  Finally month interesting blue could nature cu...  \n",
       "4  Nation purpose heavy give wait song will. List...  "
      ]
     },
     "metadata": {},
     "output_type": "display_data"
    },
    {
     "name": "stdout",
     "output_type": "stream",
     "text": [
      "___________________________\n",
      "\n",
      "Информация о таблице reviews\n",
      "<class 'pandas.core.frame.DataFrame'>\n",
      "RangeIndex: 2793 entries, 0 to 2792\n",
      "Data columns (total 4 columns):\n",
      " #   Column     Non-Null Count  Dtype \n",
      "---  ------     --------------  ----- \n",
      " 0   review_id  2793 non-null   int64 \n",
      " 1   book_id    2793 non-null   int64 \n",
      " 2   username   2793 non-null   object\n",
      " 3   text       2793 non-null   object\n",
      "dtypes: int64(2), object(2)\n",
      "memory usage: 87.4+ KB\n",
      "None\n",
      "___________________________\n",
      "\n",
      "Распределение данных в таблице reviews\n",
      "         review_id      book_id\n",
      "count  2793.000000  2793.000000\n",
      "mean   1397.000000   504.693161\n",
      "std     806.413976   288.472931\n",
      "min       1.000000     1.000000\n",
      "25%     699.000000   259.000000\n",
      "50%    1397.000000   505.000000\n",
      "75%    2095.000000   753.000000\n",
      "max    2793.000000  1000.000000\n",
      "___________________________\n",
      "\n",
      "Наличие явных дубликатов в reviews\n",
      "0\n",
      "___________________________\n",
      "\n",
      "Наличие пропусков в таблице reviews\n",
      "review_id    0\n",
      "book_id      0\n",
      "username     0\n",
      "text         0\n",
      "dtype: int64\n"
     ]
    }
   ],
   "source": [
    "preprocessing(reviews, 'reviews')"
   ]
  },
  {
   "cell_type": "code",
   "execution_count": 12,
   "id": "d8c02156",
   "metadata": {
    "scrolled": true
   },
   "outputs": [
    {
     "name": "stdout",
     "output_type": "stream",
     "text": [
      "Посмотрим первые строки датафрейма publishers\n"
     ]
    },
    {
     "data": {
      "text/html": [
       "<div>\n",
       "<style scoped>\n",
       "    .dataframe tbody tr th:only-of-type {\n",
       "        vertical-align: middle;\n",
       "    }\n",
       "\n",
       "    .dataframe tbody tr th {\n",
       "        vertical-align: top;\n",
       "    }\n",
       "\n",
       "    .dataframe thead th {\n",
       "        text-align: right;\n",
       "    }\n",
       "</style>\n",
       "<table border=\"1\" class=\"dataframe\">\n",
       "  <thead>\n",
       "    <tr style=\"text-align: right;\">\n",
       "      <th></th>\n",
       "      <th>publisher_id</th>\n",
       "      <th>publisher</th>\n",
       "    </tr>\n",
       "  </thead>\n",
       "  <tbody>\n",
       "    <tr>\n",
       "      <th>0</th>\n",
       "      <td>1</td>\n",
       "      <td>Ace</td>\n",
       "    </tr>\n",
       "    <tr>\n",
       "      <th>1</th>\n",
       "      <td>2</td>\n",
       "      <td>Ace Book</td>\n",
       "    </tr>\n",
       "    <tr>\n",
       "      <th>2</th>\n",
       "      <td>3</td>\n",
       "      <td>Ace Books</td>\n",
       "    </tr>\n",
       "    <tr>\n",
       "      <th>3</th>\n",
       "      <td>4</td>\n",
       "      <td>Ace Hardcover</td>\n",
       "    </tr>\n",
       "    <tr>\n",
       "      <th>4</th>\n",
       "      <td>5</td>\n",
       "      <td>Addison Wesley Publishing Company</td>\n",
       "    </tr>\n",
       "  </tbody>\n",
       "</table>\n",
       "</div>"
      ],
      "text/plain": [
       "   publisher_id                          publisher\n",
       "0             1                                Ace\n",
       "1             2                           Ace Book\n",
       "2             3                          Ace Books\n",
       "3             4                      Ace Hardcover\n",
       "4             5  Addison Wesley Publishing Company"
      ]
     },
     "metadata": {},
     "output_type": "display_data"
    },
    {
     "name": "stdout",
     "output_type": "stream",
     "text": [
      "___________________________\n",
      "\n",
      "Информация о таблице publishers\n",
      "<class 'pandas.core.frame.DataFrame'>\n",
      "RangeIndex: 340 entries, 0 to 339\n",
      "Data columns (total 2 columns):\n",
      " #   Column        Non-Null Count  Dtype \n",
      "---  ------        --------------  ----- \n",
      " 0   publisher_id  340 non-null    int64 \n",
      " 1   publisher     340 non-null    object\n",
      "dtypes: int64(1), object(1)\n",
      "memory usage: 5.4+ KB\n",
      "None\n",
      "___________________________\n",
      "\n",
      "Распределение данных в таблице publishers\n",
      "       publisher_id\n",
      "count    340.000000\n",
      "mean     170.500000\n",
      "std       98.293777\n",
      "min        1.000000\n",
      "25%       85.750000\n",
      "50%      170.500000\n",
      "75%      255.250000\n",
      "max      340.000000\n",
      "___________________________\n",
      "\n",
      "Наличие явных дубликатов в publishers\n",
      "0\n",
      "___________________________\n",
      "\n",
      "Наличие пропусков в таблице publishers\n",
      "publisher_id    0\n",
      "publisher       0\n",
      "dtype: int64\n"
     ]
    }
   ],
   "source": [
    "preprocessing(publishers, 'publishers')"
   ]
  },
  {
   "cell_type": "markdown",
   "id": "b43c712c",
   "metadata": {},
   "source": [
    "**Во всех остальных таблицах всё корретно.**"
   ]
  },
  {
   "cell_type": "markdown",
   "id": "6bd8407b",
   "metadata": {},
   "source": [
    "<div style=\"border:solid green 2px; padding: 20px\">\n",
    "    \n",
    "        Все данные корретно выгружены, можно приступать к исследованию данных.\n",
    "    \n",
    "</div>"
   ]
  },
  {
   "cell_type": "markdown",
   "id": "bb28126d",
   "metadata": {},
   "source": [
    "___\n",
    "## Анализ таблиц в БД. Ответы на поставленные вопросы\n",
    "В ходе данного пункта будут даны ответы на 5 поставленных вопросов.\n",
    "\n",
    "### Сколько книг вышло после 1 января 2000 года?"
   ]
  },
  {
   "cell_type": "code",
   "execution_count": 13,
   "id": "9d621e6d",
   "metadata": {},
   "outputs": [
    {
     "name": "stdout",
     "output_type": "stream",
     "text": [
      "После 1 января 2000 года вышло книг: 819\n"
     ]
    }
   ],
   "source": [
    "book_count = '''\n",
    "    SELECT COUNT(book_id) AS books \n",
    "    FROM books \n",
    "    WHERE publication_date > CAST('2000-01-01' AS TIMESTAMP)\n",
    "    '''\n",
    "print('После 1 января 2000 года вышло книг:', int(query(book_count).values))"
   ]
  },
  {
   "cell_type": "markdown",
   "id": "0cba72c7",
   "metadata": {},
   "source": [
    "### Количество обзоров и средняя оценка каждой книги"
   ]
  },
  {
   "cell_type": "code",
   "execution_count": 14,
   "id": "287571fd",
   "metadata": {},
   "outputs": [
    {
     "data": {
      "text/html": [
       "<div>\n",
       "<style scoped>\n",
       "    .dataframe tbody tr th:only-of-type {\n",
       "        vertical-align: middle;\n",
       "    }\n",
       "\n",
       "    .dataframe tbody tr th {\n",
       "        vertical-align: top;\n",
       "    }\n",
       "\n",
       "    .dataframe thead th {\n",
       "        text-align: right;\n",
       "    }\n",
       "</style>\n",
       "<table border=\"1\" class=\"dataframe\">\n",
       "  <thead>\n",
       "    <tr style=\"text-align: right;\">\n",
       "      <th></th>\n",
       "      <th>title</th>\n",
       "      <th>review_count</th>\n",
       "      <th>rating_avg</th>\n",
       "    </tr>\n",
       "  </thead>\n",
       "  <tbody>\n",
       "    <tr>\n",
       "      <th>0</th>\n",
       "      <td>Twilight (Twilight  #1)</td>\n",
       "      <td>7</td>\n",
       "      <td>3.662500</td>\n",
       "    </tr>\n",
       "    <tr>\n",
       "      <th>1</th>\n",
       "      <td>Water for Elephants</td>\n",
       "      <td>6</td>\n",
       "      <td>3.977273</td>\n",
       "    </tr>\n",
       "    <tr>\n",
       "      <th>2</th>\n",
       "      <td>The Glass Castle</td>\n",
       "      <td>6</td>\n",
       "      <td>4.206897</td>\n",
       "    </tr>\n",
       "    <tr>\n",
       "      <th>3</th>\n",
       "      <td>Harry Potter and the Prisoner of Azkaban (Harr...</td>\n",
       "      <td>6</td>\n",
       "      <td>4.414634</td>\n",
       "    </tr>\n",
       "    <tr>\n",
       "      <th>4</th>\n",
       "      <td>The Curious Incident of the Dog in the Night-Time</td>\n",
       "      <td>6</td>\n",
       "      <td>4.081081</td>\n",
       "    </tr>\n",
       "    <tr>\n",
       "      <th>...</th>\n",
       "      <td>...</td>\n",
       "      <td>...</td>\n",
       "      <td>...</td>\n",
       "    </tr>\n",
       "    <tr>\n",
       "      <th>995</th>\n",
       "      <td>Anne Rice's The Vampire Lestat: A Graphic Novel</td>\n",
       "      <td>0</td>\n",
       "      <td>3.666667</td>\n",
       "    </tr>\n",
       "    <tr>\n",
       "      <th>996</th>\n",
       "      <td>The Natural Way to Draw</td>\n",
       "      <td>0</td>\n",
       "      <td>3.000000</td>\n",
       "    </tr>\n",
       "    <tr>\n",
       "      <th>997</th>\n",
       "      <td>The Cat in the Hat and Other Dr. Seuss Favorites</td>\n",
       "      <td>0</td>\n",
       "      <td>5.000000</td>\n",
       "    </tr>\n",
       "    <tr>\n",
       "      <th>998</th>\n",
       "      <td>Essential Tales and Poems</td>\n",
       "      <td>0</td>\n",
       "      <td>4.000000</td>\n",
       "    </tr>\n",
       "    <tr>\n",
       "      <th>999</th>\n",
       "      <td>Disney's Beauty and the Beast (A Little Golden...</td>\n",
       "      <td>0</td>\n",
       "      <td>4.000000</td>\n",
       "    </tr>\n",
       "  </tbody>\n",
       "</table>\n",
       "<p>1000 rows × 3 columns</p>\n",
       "</div>"
      ],
      "text/plain": [
       "                                                 title  review_count  \\\n",
       "0                              Twilight (Twilight  #1)             7   \n",
       "1                                  Water for Elephants             6   \n",
       "2                                     The Glass Castle             6   \n",
       "3    Harry Potter and the Prisoner of Azkaban (Harr...             6   \n",
       "4    The Curious Incident of the Dog in the Night-Time             6   \n",
       "..                                                 ...           ...   \n",
       "995    Anne Rice's The Vampire Lestat: A Graphic Novel             0   \n",
       "996                            The Natural Way to Draw             0   \n",
       "997   The Cat in the Hat and Other Dr. Seuss Favorites             0   \n",
       "998                          Essential Tales and Poems             0   \n",
       "999  Disney's Beauty and the Beast (A Little Golden...             0   \n",
       "\n",
       "     rating_avg  \n",
       "0      3.662500  \n",
       "1      3.977273  \n",
       "2      4.206897  \n",
       "3      4.414634  \n",
       "4      4.081081  \n",
       "..          ...  \n",
       "995    3.666667  \n",
       "996    3.000000  \n",
       "997    5.000000  \n",
       "998    4.000000  \n",
       "999    4.000000  \n",
       "\n",
       "[1000 rows x 3 columns]"
      ]
     },
     "metadata": {},
     "output_type": "display_data"
    }
   ],
   "source": [
    "rev_rat = '''\n",
    "    SELECT b.title AS title, COUNT(DISTINCT re.review_id) as review_count, AVG(ra.rating) as rating_avg\n",
    "    FROM books as b\n",
    "    FULL OUTER JOIN ratings as ra ON ra.book_id = b.book_id\n",
    "    FULL OUTER JOIN reviews as re ON re.book_id = b.book_id\n",
    "    GROUP BY b.book_id\n",
    "    ORDER BY review_count DESC\n",
    "    '''\n",
    "display(query(rev_rat))"
   ]
  },
  {
   "cell_type": "code",
   "execution_count": 15,
   "id": "1b289e92",
   "metadata": {},
   "outputs": [
    {
     "data": {
      "text/html": [
       "<div>\n",
       "<style scoped>\n",
       "    .dataframe tbody tr th:only-of-type {\n",
       "        vertical-align: middle;\n",
       "    }\n",
       "\n",
       "    .dataframe tbody tr th {\n",
       "        vertical-align: top;\n",
       "    }\n",
       "\n",
       "    .dataframe thead th {\n",
       "        text-align: right;\n",
       "    }\n",
       "</style>\n",
       "<table border=\"1\" class=\"dataframe\">\n",
       "  <thead>\n",
       "    <tr style=\"text-align: right;\">\n",
       "      <th></th>\n",
       "      <th>title</th>\n",
       "      <th>review_count</th>\n",
       "      <th>rating_avg</th>\n",
       "    </tr>\n",
       "  </thead>\n",
       "  <tbody>\n",
       "    <tr>\n",
       "      <th>0</th>\n",
       "      <td>Arrows of the Queen (Heralds of Valdemar  #1)</td>\n",
       "      <td>2</td>\n",
       "      <td>5.00</td>\n",
       "    </tr>\n",
       "    <tr>\n",
       "      <th>1</th>\n",
       "      <td>The Walking Dead  Book One (The Walking Dead #...</td>\n",
       "      <td>2</td>\n",
       "      <td>5.00</td>\n",
       "    </tr>\n",
       "    <tr>\n",
       "      <th>2</th>\n",
       "      <td>Light in August</td>\n",
       "      <td>2</td>\n",
       "      <td>5.00</td>\n",
       "    </tr>\n",
       "    <tr>\n",
       "      <th>3</th>\n",
       "      <td>Wherever You Go  There You Are: Mindfulness Me...</td>\n",
       "      <td>2</td>\n",
       "      <td>5.00</td>\n",
       "    </tr>\n",
       "    <tr>\n",
       "      <th>4</th>\n",
       "      <td>Captivating: Unveiling the Mystery of a Woman'...</td>\n",
       "      <td>2</td>\n",
       "      <td>5.00</td>\n",
       "    </tr>\n",
       "    <tr>\n",
       "      <th>...</th>\n",
       "      <td>...</td>\n",
       "      <td>...</td>\n",
       "      <td>...</td>\n",
       "    </tr>\n",
       "    <tr>\n",
       "      <th>995</th>\n",
       "      <td>The World Is Flat: A Brief History of the Twen...</td>\n",
       "      <td>3</td>\n",
       "      <td>2.25</td>\n",
       "    </tr>\n",
       "    <tr>\n",
       "      <th>996</th>\n",
       "      <td>His Excellency: George Washington</td>\n",
       "      <td>2</td>\n",
       "      <td>2.00</td>\n",
       "    </tr>\n",
       "    <tr>\n",
       "      <th>997</th>\n",
       "      <td>Drowning Ruth</td>\n",
       "      <td>3</td>\n",
       "      <td>2.00</td>\n",
       "    </tr>\n",
       "    <tr>\n",
       "      <th>998</th>\n",
       "      <td>Junky</td>\n",
       "      <td>2</td>\n",
       "      <td>2.00</td>\n",
       "    </tr>\n",
       "    <tr>\n",
       "      <th>999</th>\n",
       "      <td>Harvesting the Heart</td>\n",
       "      <td>2</td>\n",
       "      <td>1.50</td>\n",
       "    </tr>\n",
       "  </tbody>\n",
       "</table>\n",
       "<p>1000 rows × 3 columns</p>\n",
       "</div>"
      ],
      "text/plain": [
       "                                                 title  review_count  \\\n",
       "0        Arrows of the Queen (Heralds of Valdemar  #1)             2   \n",
       "1    The Walking Dead  Book One (The Walking Dead #...             2   \n",
       "2                                      Light in August             2   \n",
       "3    Wherever You Go  There You Are: Mindfulness Me...             2   \n",
       "4    Captivating: Unveiling the Mystery of a Woman'...             2   \n",
       "..                                                 ...           ...   \n",
       "995  The World Is Flat: A Brief History of the Twen...             3   \n",
       "996                  His Excellency: George Washington             2   \n",
       "997                                      Drowning Ruth             3   \n",
       "998                                              Junky             2   \n",
       "999                               Harvesting the Heart             2   \n",
       "\n",
       "     rating_avg  \n",
       "0          5.00  \n",
       "1          5.00  \n",
       "2          5.00  \n",
       "3          5.00  \n",
       "4          5.00  \n",
       "..          ...  \n",
       "995        2.25  \n",
       "996        2.00  \n",
       "997        2.00  \n",
       "998        2.00  \n",
       "999        1.50  \n",
       "\n",
       "[1000 rows x 3 columns]"
      ]
     },
     "metadata": {},
     "output_type": "display_data"
    }
   ],
   "source": [
    "rev_rat = '''\n",
    "    SELECT b.title AS title, COUNT(DISTINCT re.review_id) as review_count, AVG(ra.rating) as rating_avg\n",
    "    FROM books as b\n",
    "    FULL OUTER JOIN ratings as ra ON ra.book_id = b.book_id\n",
    "    FULL OUTER JOIN reviews as re ON re.book_id = b.book_id\n",
    "    GROUP BY b.book_id\n",
    "    ORDER BY rating_avg DESC\n",
    "    '''\n",
    "display(query(rev_rat))"
   ]
  },
  {
   "cell_type": "markdown",
   "id": "28fce6e1",
   "metadata": {},
   "source": [
    "**Больше всего обзоров на книгу 'Twilight (Twilight #1)'. Есть много книг с рейтингом 5, однако не по всем из них много ревью.**"
   ]
  },
  {
   "cell_type": "markdown",
   "id": "c9ea0ffa",
   "metadata": {},
   "source": [
    "### Издательство, которое выпустило наибольшее число книг толще 50 страниц "
   ]
  },
  {
   "cell_type": "code",
   "execution_count": 16,
   "id": "5b9307b0",
   "metadata": {},
   "outputs": [
    {
     "name": "stdout",
     "output_type": "stream",
     "text": [
      "Наибольшее число книг, а именно 42 книги, выпустило издательство Penguin Books\n"
     ]
    }
   ],
   "source": [
    "publisher = '''\n",
    "    SELECT p.publisher, COUNT(b.book_id)\n",
    "    FROM publishers AS p\n",
    "    JOIN books AS b ON p.publisher_id=b.publisher_id\n",
    "    WHERE b.num_pages > 50\n",
    "    GROUP BY p.publisher_id\n",
    "    ORDER BY count(b.book_id) DESC\n",
    "    LIMIT 1\n",
    "    '''\n",
    "print('Наибольшее число книг, а именно', query(publisher).values[0][1], 'книги, выпустило издательство', query(publisher).values[0][0])"
   ]
  },
  {
   "cell_type": "markdown",
   "id": "942460ea",
   "metadata": {},
   "source": [
    "### Автор с самой высокой средней оценкой книг"
   ]
  },
  {
   "cell_type": "code",
   "execution_count": 17,
   "id": "e1f9e231",
   "metadata": {
    "scrolled": true
   },
   "outputs": [
    {
     "name": "stdout",
     "output_type": "stream",
     "text": [
      "Автором с самым высоким рейтингом, а именно 4.287096774193548 , является J.K. Rowling/Mary GrandPré\n"
     ]
    }
   ],
   "source": [
    "author = '''\n",
    "    SELECT a.author author, AVG(r.rating) rating\n",
    "    FROM authors AS a\n",
    "    JOIN books AS b ON a.author_id=b.author_id\n",
    "    JOIN ratings AS r ON b.book_id=r.book_id\n",
    "    \n",
    "    WHERE b.book_id in\n",
    "    (SELECT book_id\n",
    "    FROM ratings\n",
    "    GROUP BY book_id\n",
    "    HAVING count(rating) >= 50)\n",
    "    \n",
    "    GROUP BY author\n",
    "    ORDER BY rating DESC\n",
    "    LIMIT 1\n",
    "    '''\n",
    "\n",
    "print('Автором с самым высоким рейтингом, а именно', query(author).values[0][1], ', является', query(author).values[0][0])"
   ]
  },
  {
   "cell_type": "markdown",
   "id": "77868fe6",
   "metadata": {},
   "source": [
    "### Cреднее количество обзоров от пользователей, которые поставили больше 50 оценок"
   ]
  },
  {
   "cell_type": "code",
   "execution_count": 18,
   "id": "6c31b653",
   "metadata": {},
   "outputs": [
    {
     "name": "stdout",
     "output_type": "stream",
     "text": [
      "Среднее количество обзоров от активных пользователей: 24.333333333333332\n"
     ]
    }
   ],
   "source": [
    "user = '''\n",
    "    SELECT AVG(re_count)\n",
    "    FROM\n",
    "    (SELECT username, COUNT(review_id) as re_count\n",
    "    FROM reviews\n",
    "    \n",
    "    WHERE username in\n",
    "    (SELECT username\n",
    "    FROM ratings\n",
    "    GROUP BY username\n",
    "    HAVING count(rating_id) > 50)\n",
    "    \n",
    "    GROUP BY username) as cnt\n",
    "    '''\n",
    "query(user)\n",
    "print('Среднее количество обзоров от активных пользователей:', float(query(user).values))"
   ]
  },
  {
   "cell_type": "markdown",
   "id": "3724e951",
   "metadata": {},
   "source": [
    "___\n",
    "## Общий вывод\n"
   ]
  },
  {
   "cell_type": "markdown",
   "id": "3cea1b91",
   "metadata": {},
   "source": [
    "<div style=\"border:solid green 2px; padding: 20px\">\n",
    "    \n",
    "        После 1 января вышло 819 книг. Больше всего обзоров на книгу 'Twilight (Twilight #1)', при этом можно заметить, что выских рейтингов с большим количеством отзывов почти нет. Есть много книг с рейтингом 5, однако не по всем из них много ревью. Больше всего книг от издательства Penguin Books. Автором с самым высоким рейтингом является J.K. Rowling/Mary GrandPré. В среднем активные пользователи оставляют 24 обзора.\n",
    "</div>"
   ]
  }
 ],
 "metadata": {
  "ExecuteTimeLog": [
   {
    "duration": 10114,
    "start_time": "2023-02-11T20:45:21.202Z"
   },
   {
    "duration": 694,
    "start_time": "2023-02-11T20:45:31.317Z"
   },
   {
    "duration": 5,
    "start_time": "2023-02-11T20:45:32.014Z"
   },
   {
    "duration": 88,
    "start_time": "2023-02-11T20:45:32.022Z"
   },
   {
    "duration": 5,
    "start_time": "2023-02-11T20:45:32.112Z"
   },
   {
    "duration": 38,
    "start_time": "2023-02-11T20:45:32.118Z"
   },
   {
    "duration": 44,
    "start_time": "2023-02-11T20:45:32.158Z"
   },
   {
    "duration": 33,
    "start_time": "2023-02-11T20:45:32.204Z"
   },
   {
    "duration": 59,
    "start_time": "2023-02-11T20:45:32.239Z"
   },
   {
    "duration": 80,
    "start_time": "2023-02-11T20:45:32.302Z"
   },
   {
    "duration": 108,
    "start_time": "2023-02-11T20:45:32.384Z"
   },
   {
    "duration": 104,
    "start_time": "2023-02-11T20:45:32.494Z"
   },
   {
    "duration": 185,
    "start_time": "2023-02-11T20:45:32.599Z"
   },
   {
    "duration": 160,
    "start_time": "2023-02-11T20:45:32.786Z"
   },
   {
    "duration": 185,
    "start_time": "2023-02-11T20:45:32.948Z"
   },
   {
    "duration": 4,
    "start_time": "2023-02-11T20:47:08.857Z"
   },
   {
    "duration": 83,
    "start_time": "2023-02-11T20:47:21.092Z"
   },
   {
    "duration": 168,
    "start_time": "2023-02-11T20:47:23.783Z"
   },
   {
    "duration": 91,
    "start_time": "2023-02-11T20:47:24.825Z"
   },
   {
    "duration": 153,
    "start_time": "2023-02-11T20:47:29.608Z"
   },
   {
    "duration": 540,
    "start_time": "2023-02-11T22:10:44.352Z"
   },
   {
    "duration": 7853,
    "start_time": "2023-02-11T22:10:44.894Z"
   },
   {
    "duration": 597,
    "start_time": "2023-02-11T22:10:52.749Z"
   },
   {
    "duration": 5,
    "start_time": "2023-02-11T22:10:53.348Z"
   },
   {
    "duration": 66,
    "start_time": "2023-02-11T22:10:53.356Z"
   },
   {
    "duration": 5,
    "start_time": "2023-02-11T22:10:53.424Z"
   },
   {
    "duration": 36,
    "start_time": "2023-02-11T22:10:53.430Z"
   },
   {
    "duration": 55,
    "start_time": "2023-02-11T22:10:53.468Z"
   },
   {
    "duration": 32,
    "start_time": "2023-02-11T22:10:53.525Z"
   },
   {
    "duration": 56,
    "start_time": "2023-02-11T22:10:53.559Z"
   },
   {
    "duration": 68,
    "start_time": "2023-02-11T22:10:53.617Z"
   },
   {
    "duration": 114,
    "start_time": "2023-02-11T22:11:02.595Z"
   },
   {
    "duration": 130,
    "start_time": "2023-02-11T22:11:23.220Z"
   },
   {
    "duration": 114,
    "start_time": "2023-02-11T22:24:25.708Z"
   },
   {
    "duration": 575,
    "start_time": "2023-02-12T15:34:00.554Z"
   },
   {
    "duration": 7828,
    "start_time": "2023-02-12T15:34:01.131Z"
   },
   {
    "duration": 4,
    "start_time": "2023-02-12T15:34:08.961Z"
   },
   {
    "duration": 613,
    "start_time": "2023-02-12T15:34:08.966Z"
   },
   {
    "duration": 3,
    "start_time": "2023-02-12T15:34:09.583Z"
   },
   {
    "duration": 9,
    "start_time": "2023-02-12T15:34:09.588Z"
   },
   {
    "duration": 44,
    "start_time": "2023-02-12T15:34:09.599Z"
   },
   {
    "duration": 4,
    "start_time": "2023-02-12T15:34:09.645Z"
   },
   {
    "duration": 26,
    "start_time": "2023-02-12T15:34:09.650Z"
   },
   {
    "duration": 34,
    "start_time": "2023-02-12T15:34:09.677Z"
   },
   {
    "duration": 58,
    "start_time": "2023-02-12T15:34:09.713Z"
   },
   {
    "duration": 28,
    "start_time": "2023-02-12T15:34:09.773Z"
   },
   {
    "duration": 67,
    "start_time": "2023-02-12T15:34:09.802Z"
   },
   {
    "duration": 87,
    "start_time": "2023-02-12T15:34:09.871Z"
   },
   {
    "duration": 92,
    "start_time": "2023-02-12T15:34:09.959Z"
   },
   {
    "duration": 132,
    "start_time": "2023-02-12T15:34:10.052Z"
   },
   {
    "duration": 137,
    "start_time": "2023-02-12T15:34:10.186Z"
   },
   {
    "duration": 133,
    "start_time": "2023-02-12T15:34:10.325Z"
   },
   {
    "duration": 547,
    "start_time": "2023-02-12T16:33:02.719Z"
   },
   {
    "duration": 12031,
    "start_time": "2023-02-12T16:33:03.269Z"
   },
   {
    "duration": 6,
    "start_time": "2023-02-12T16:33:15.302Z"
   },
   {
    "duration": 133,
    "start_time": "2023-02-12T16:33:15.310Z"
   },
   {
    "duration": 3,
    "start_time": "2023-02-12T16:33:15.445Z"
   },
   {
    "duration": 6,
    "start_time": "2023-02-12T16:33:15.450Z"
   },
   {
    "duration": 57,
    "start_time": "2023-02-12T16:33:15.458Z"
   },
   {
    "duration": 6,
    "start_time": "2023-02-12T16:33:15.517Z"
   },
   {
    "duration": 28,
    "start_time": "2023-02-12T16:33:15.525Z"
   },
   {
    "duration": 70,
    "start_time": "2023-02-12T16:33:15.554Z"
   },
   {
    "duration": 29,
    "start_time": "2023-02-12T16:33:15.626Z"
   },
   {
    "duration": 53,
    "start_time": "2023-02-12T16:33:15.656Z"
   },
   {
    "duration": 10,
    "start_time": "2023-02-12T16:33:15.716Z"
   },
   {
    "duration": 36,
    "start_time": "2023-02-12T16:33:15.730Z"
   },
   {
    "duration": 43,
    "start_time": "2023-02-12T16:33:15.768Z"
   },
   {
    "duration": 19,
    "start_time": "2023-02-12T16:33:15.813Z"
   },
   {
    "duration": 20,
    "start_time": "2023-02-12T16:33:15.833Z"
   },
   {
    "duration": 15,
    "start_time": "2023-02-12T16:33:15.855Z"
   }
  ],
  "kernelspec": {
   "display_name": "Python 3 (ipykernel)",
   "language": "python",
   "name": "python3"
  },
  "language_info": {
   "codemirror_mode": {
    "name": "ipython",
    "version": 3
   },
   "file_extension": ".py",
   "mimetype": "text/x-python",
   "name": "python",
   "nbconvert_exporter": "python",
   "pygments_lexer": "ipython3",
   "version": "3.9.12"
  },
  "toc": {
   "base_numbering": 1,
   "nav_menu": {},
   "number_sections": true,
   "sideBar": true,
   "skip_h1_title": true,
   "title_cell": "Table of Contents",
   "title_sidebar": "Contents",
   "toc_cell": false,
   "toc_position": {},
   "toc_section_display": true,
   "toc_window_display": false
  }
 },
 "nbformat": 4,
 "nbformat_minor": 5
}
